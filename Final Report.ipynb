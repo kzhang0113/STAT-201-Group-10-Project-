{
 "cells": [
  {
   "cell_type": "markdown",
   "id": "73ee354d-166c-496b-a191-f1291139a495",
   "metadata": {},
   "source": [
    "# Group 10 Final Report - Comparing Serum Cholesterol Levels Between Male and Female\n",
    "#### Authors: Waris Bhatia, Lucy Liu, Yolanda Wu, Caroline Zhang"
   ]
  },
  {
   "cell_type": "code",
   "execution_count": 55,
   "id": "2fec77fd-c24a-47e0-a384-a34b14216fea",
   "metadata": {},
   "outputs": [],
   "source": [
    "library(tidyverse)\n",
    "library(infer)\n",
    "library(repr)\n",
    "library(broom)"
   ]
  },
  {
   "cell_type": "markdown",
   "id": "c701613f-e584-4cd4-9857-241eba0d581e",
   "metadata": {},
   "source": [
    "## Introduction\n",
    "\n",
    "Cholesterol level is a fundamental health measurement that positively correlates with cardiovascular risks. What affects the cholesterol level? Despite the fact that males and females have shared exposure towards common risk factors, such as poor diet, obesity, and lack of exercise, gender is commonly observed to be an essential variable in heart disease diagnosis. Hence, identifying gender-specific patterns in the cholesterol level is highly insightful and may increase specificity and accuracy when conducting relevant medical analysis. Ultimately, **this project aims to evaluate whether serum cholesterol level is a potential gender-related risk determinant** by exploring the difference between the average of the cholesterol levels of male and female patients. **In other words, is the mean cholesterol level different for different genders?** To answer this, we hypothesize that female patients have a higher mean cholesterol than male patients. This has been shown in *A Statistical Study of Serum Cholesterol Level by Gender and Race* (Tharu et al., 2017) where female patients are observed to likely have higher serum cholesterol levels. From our preliminary analysis, we also found that females tend to have higher cholesterol levels than male patients. In *Hormones, Genetic Factors, and Gender Differences in Cardiovascular Disease (2002)*, Rossouw highlights the necessity of discussing gender differences in determination of the cardiovascular disease diagnosis. Moreover, *Gender Differences in Cardiovascular Disease* (Gao et al., 2019) frames the premise of this project. \n",
    "\n",
    "To address this research question, we will examine **The Heart Disease Data Set**, from the UC Irvine Learning Repository, which is a collection of databases and domain theories that are used for the empirical analysis of machine learning algorithms, and is considered as highly reliable. The dataset contains a total of 303 observations and 14 attributes. Specifically, we will use `sex` as the categorical variable to categorize the data into male and female participants (1 = male, 0 = female) and treat `serum cholesterol level (mg/dl)` as the response variable. "
   ]
  },
  {
   "cell_type": "markdown",
   "id": "233836a7-e8f7-4cad-9a71-0ac91cc545fe",
   "metadata": {},
   "source": [
    "## Methods and Results"
   ]
  },
  {
   "cell_type": "markdown",
   "id": "4f574a2d-f8da-47cf-9d99-93fc9d3902d4",
   "metadata": {},
   "source": [
    "### Data Exploration"
   ]
  },
  {
   "cell_type": "markdown",
   "id": "65934067-2884-4c2f-b322-00596b696648",
   "metadata": {},
   "source": [
    "First, let's read the dataset into R and have a glimpse at it."
   ]
  },
  {
   "cell_type": "code",
   "execution_count": 56,
   "id": "3d161bd8-d9c5-412f-96cd-a27c7e9b3389",
   "metadata": {},
   "outputs": [
    {
     "name": "stderr",
     "output_type": "stream",
     "text": [
      "\u001b[1m\u001b[22mNew names:\n",
      "\u001b[36m•\u001b[39m `1.0` -> `1.0...2`\n",
      "\u001b[36m•\u001b[39m `1.0` -> `1.0...3`\n",
      "\u001b[36m•\u001b[39m `1.0` -> `1.0...6`\n",
      "\u001b[36m•\u001b[39m `0.0` -> `0.0...9`\n",
      "\u001b[36m•\u001b[39m `0.0` -> `0.0...12`\n",
      "\u001b[1mRows: \u001b[22m\u001b[34m302\u001b[39m \u001b[1mColumns: \u001b[22m\u001b[34m14\u001b[39m\n",
      "\u001b[36m──\u001b[39m \u001b[1mColumn specification\u001b[22m \u001b[36m────────────────────────────────────────────────────────\u001b[39m\n",
      "\u001b[1mDelimiter:\u001b[22m \",\"\n",
      "\u001b[31mchr\u001b[39m  (2): 0.0...12, 6.0\n",
      "\u001b[32mdbl\u001b[39m (12): 63.0, 1.0...2, 1.0...3, 145.0, 233.0, 1.0...6, 2.0, 150.0, 0.0...9...\n",
      "\n",
      "\u001b[36mℹ\u001b[39m Use `spec()` to retrieve the full column specification for this data.\n",
      "\u001b[36mℹ\u001b[39m Specify the column types or set `show_col_types = FALSE` to quiet this message.\n"
     ]
    },
    {
     "data": {
      "text/html": [
       "<table class=\"dataframe\">\n",
       "<caption>A tibble: 6 × 14</caption>\n",
       "<thead>\n",
       "\t<tr><th scope=col>age</th><th scope=col>sex</th><th scope=col>cp</th><th scope=col>trestbps</th><th scope=col>chol</th><th scope=col>fbs</th><th scope=col>restecg</th><th scope=col>thalach</th><th scope=col>exang</th><th scope=col>oldpeak</th><th scope=col>slope</th><th scope=col>ca</th><th scope=col>thal</th><th scope=col>num</th></tr>\n",
       "\t<tr><th scope=col>&lt;dbl&gt;</th><th scope=col>&lt;dbl&gt;</th><th scope=col>&lt;dbl&gt;</th><th scope=col>&lt;dbl&gt;</th><th scope=col>&lt;dbl&gt;</th><th scope=col>&lt;dbl&gt;</th><th scope=col>&lt;dbl&gt;</th><th scope=col>&lt;dbl&gt;</th><th scope=col>&lt;dbl&gt;</th><th scope=col>&lt;dbl&gt;</th><th scope=col>&lt;dbl&gt;</th><th scope=col>&lt;chr&gt;</th><th scope=col>&lt;chr&gt;</th><th scope=col>&lt;dbl&gt;</th></tr>\n",
       "</thead>\n",
       "<tbody>\n",
       "\t<tr><td>67</td><td>1</td><td>4</td><td>160</td><td>286</td><td>0</td><td>2</td><td>108</td><td>1</td><td>1.5</td><td>2</td><td>3.0</td><td>3.0</td><td>2</td></tr>\n",
       "\t<tr><td>67</td><td>1</td><td>4</td><td>120</td><td>229</td><td>0</td><td>2</td><td>129</td><td>1</td><td>2.6</td><td>2</td><td>2.0</td><td>7.0</td><td>1</td></tr>\n",
       "\t<tr><td>37</td><td>1</td><td>3</td><td>130</td><td>250</td><td>0</td><td>0</td><td>187</td><td>0</td><td>3.5</td><td>3</td><td>0.0</td><td>3.0</td><td>0</td></tr>\n",
       "\t<tr><td>41</td><td>0</td><td>2</td><td>130</td><td>204</td><td>0</td><td>2</td><td>172</td><td>0</td><td>1.4</td><td>1</td><td>0.0</td><td>3.0</td><td>0</td></tr>\n",
       "\t<tr><td>56</td><td>1</td><td>2</td><td>120</td><td>236</td><td>0</td><td>0</td><td>178</td><td>0</td><td>0.8</td><td>1</td><td>0.0</td><td>3.0</td><td>0</td></tr>\n",
       "\t<tr><td>62</td><td>0</td><td>4</td><td>140</td><td>268</td><td>0</td><td>2</td><td>160</td><td>0</td><td>3.6</td><td>3</td><td>2.0</td><td>3.0</td><td>3</td></tr>\n",
       "</tbody>\n",
       "</table>\n"
      ],
      "text/latex": [
       "A tibble: 6 × 14\n",
       "\\begin{tabular}{llllllllllllll}\n",
       " age & sex & cp & trestbps & chol & fbs & restecg & thalach & exang & oldpeak & slope & ca & thal & num\\\\\n",
       " <dbl> & <dbl> & <dbl> & <dbl> & <dbl> & <dbl> & <dbl> & <dbl> & <dbl> & <dbl> & <dbl> & <chr> & <chr> & <dbl>\\\\\n",
       "\\hline\n",
       "\t 67 & 1 & 4 & 160 & 286 & 0 & 2 & 108 & 1 & 1.5 & 2 & 3.0 & 3.0 & 2\\\\\n",
       "\t 67 & 1 & 4 & 120 & 229 & 0 & 2 & 129 & 1 & 2.6 & 2 & 2.0 & 7.0 & 1\\\\\n",
       "\t 37 & 1 & 3 & 130 & 250 & 0 & 0 & 187 & 0 & 3.5 & 3 & 0.0 & 3.0 & 0\\\\\n",
       "\t 41 & 0 & 2 & 130 & 204 & 0 & 2 & 172 & 0 & 1.4 & 1 & 0.0 & 3.0 & 0\\\\\n",
       "\t 56 & 1 & 2 & 120 & 236 & 0 & 0 & 178 & 0 & 0.8 & 1 & 0.0 & 3.0 & 0\\\\\n",
       "\t 62 & 0 & 4 & 140 & 268 & 0 & 2 & 160 & 0 & 3.6 & 3 & 2.0 & 3.0 & 3\\\\\n",
       "\\end{tabular}\n"
      ],
      "text/markdown": [
       "\n",
       "A tibble: 6 × 14\n",
       "\n",
       "| age &lt;dbl&gt; | sex &lt;dbl&gt; | cp &lt;dbl&gt; | trestbps &lt;dbl&gt; | chol &lt;dbl&gt; | fbs &lt;dbl&gt; | restecg &lt;dbl&gt; | thalach &lt;dbl&gt; | exang &lt;dbl&gt; | oldpeak &lt;dbl&gt; | slope &lt;dbl&gt; | ca &lt;chr&gt; | thal &lt;chr&gt; | num &lt;dbl&gt; |\n",
       "|---|---|---|---|---|---|---|---|---|---|---|---|---|---|\n",
       "| 67 | 1 | 4 | 160 | 286 | 0 | 2 | 108 | 1 | 1.5 | 2 | 3.0 | 3.0 | 2 |\n",
       "| 67 | 1 | 4 | 120 | 229 | 0 | 2 | 129 | 1 | 2.6 | 2 | 2.0 | 7.0 | 1 |\n",
       "| 37 | 1 | 3 | 130 | 250 | 0 | 0 | 187 | 0 | 3.5 | 3 | 0.0 | 3.0 | 0 |\n",
       "| 41 | 0 | 2 | 130 | 204 | 0 | 2 | 172 | 0 | 1.4 | 1 | 0.0 | 3.0 | 0 |\n",
       "| 56 | 1 | 2 | 120 | 236 | 0 | 0 | 178 | 0 | 0.8 | 1 | 0.0 | 3.0 | 0 |\n",
       "| 62 | 0 | 4 | 140 | 268 | 0 | 2 | 160 | 0 | 3.6 | 3 | 2.0 | 3.0 | 3 |\n",
       "\n"
      ],
      "text/plain": [
       "  age sex cp trestbps chol fbs restecg thalach exang oldpeak slope ca  thal num\n",
       "1 67  1   4  160      286  0   2       108     1     1.5     2     3.0 3.0  2  \n",
       "2 67  1   4  120      229  0   2       129     1     2.6     2     2.0 7.0  1  \n",
       "3 37  1   3  130      250  0   0       187     0     3.5     3     0.0 3.0  0  \n",
       "4 41  0   2  130      204  0   2       172     0     1.4     1     0.0 3.0  0  \n",
       "5 56  1   2  120      236  0   0       178     0     0.8     1     0.0 3.0  0  \n",
       "6 62  0   4  140      268  0   2       160     0     3.6     3     2.0 3.0  3  "
      ]
     },
     "metadata": {},
     "output_type": "display_data"
    }
   ],
   "source": [
    "# Download the dataset from the website\n",
    "url <- \"https://archive.ics.uci.edu/ml/machine-learning-databases/heart-disease/processed.cleveland.data\"\n",
    "download.file(url, destfile='heart_data.csv')\n",
    "\n",
    "# Read the dataset\n",
    "heart <- read_csv('heart_data.csv')\n",
    "\n",
    "# Rename the column names\n",
    "colnames(heart) <- c(\"age\", \"sex\", \"cp\", \"trestbps\", \"chol\", \"fbs\", \"restecg\", \"thalach\", \"exang\", \"oldpeak\", \"slope\", \"ca\", \"thal\", \"num\")\n",
    "\n",
    "head(heart)"
   ]
  },
  {
   "cell_type": "markdown",
   "id": "8aa07df3-d83d-469d-bf22-8d75c75c4a79",
   "metadata": {},
   "source": [
    "Our dataset looks almost tidy. We only need to: \n",
    "- convert the `ca` and `thal` columns into integers\n",
    "- convert the categorical variables (`sex`, `cp`, `fbs`, `restecg`, `exang`, `slope`, `ca`, `thal`, `num`) from numeric to character"
   ]
  },
  {
   "cell_type": "code",
   "execution_count": 57,
   "id": "d7b14bad-0aff-4719-ae61-1aaaeed898e8",
   "metadata": {},
   "outputs": [
    {
     "name": "stderr",
     "output_type": "stream",
     "text": [
      "Warning message in mask$eval_all_mutate(quo):\n",
      "“NAs introduced by coercion”\n",
      "Warning message in mask$eval_all_mutate(quo):\n",
      "“NAs introduced by coercion”\n"
     ]
    },
    {
     "data": {
      "text/html": [
       "<table class=\"dataframe\">\n",
       "<caption>A tibble: 6 × 14</caption>\n",
       "<thead>\n",
       "\t<tr><th scope=col>age</th><th scope=col>sex</th><th scope=col>cp</th><th scope=col>trestbps</th><th scope=col>chol</th><th scope=col>fbs</th><th scope=col>restecg</th><th scope=col>thalach</th><th scope=col>exang</th><th scope=col>oldpeak</th><th scope=col>slope</th><th scope=col>ca</th><th scope=col>thal</th><th scope=col>num</th></tr>\n",
       "\t<tr><th scope=col>&lt;dbl&gt;</th><th scope=col>&lt;chr&gt;</th><th scope=col>&lt;chr&gt;</th><th scope=col>&lt;dbl&gt;</th><th scope=col>&lt;dbl&gt;</th><th scope=col>&lt;chr&gt;</th><th scope=col>&lt;chr&gt;</th><th scope=col>&lt;dbl&gt;</th><th scope=col>&lt;chr&gt;</th><th scope=col>&lt;dbl&gt;</th><th scope=col>&lt;chr&gt;</th><th scope=col>&lt;chr&gt;</th><th scope=col>&lt;chr&gt;</th><th scope=col>&lt;chr&gt;</th></tr>\n",
       "</thead>\n",
       "<tbody>\n",
       "\t<tr><td>67</td><td>1</td><td>4</td><td>160</td><td>286</td><td>0</td><td>2</td><td>108</td><td>1</td><td>1.5</td><td>2</td><td>3</td><td>3</td><td>2</td></tr>\n",
       "\t<tr><td>67</td><td>1</td><td>4</td><td>120</td><td>229</td><td>0</td><td>2</td><td>129</td><td>1</td><td>2.6</td><td>2</td><td>2</td><td>7</td><td>1</td></tr>\n",
       "\t<tr><td>37</td><td>1</td><td>3</td><td>130</td><td>250</td><td>0</td><td>0</td><td>187</td><td>0</td><td>3.5</td><td>3</td><td>0</td><td>3</td><td>0</td></tr>\n",
       "\t<tr><td>41</td><td>0</td><td>2</td><td>130</td><td>204</td><td>0</td><td>2</td><td>172</td><td>0</td><td>1.4</td><td>1</td><td>0</td><td>3</td><td>0</td></tr>\n",
       "\t<tr><td>56</td><td>1</td><td>2</td><td>120</td><td>236</td><td>0</td><td>0</td><td>178</td><td>0</td><td>0.8</td><td>1</td><td>0</td><td>3</td><td>0</td></tr>\n",
       "\t<tr><td>62</td><td>0</td><td>4</td><td>140</td><td>268</td><td>0</td><td>2</td><td>160</td><td>0</td><td>3.6</td><td>3</td><td>2</td><td>3</td><td>3</td></tr>\n",
       "</tbody>\n",
       "</table>\n"
      ],
      "text/latex": [
       "A tibble: 6 × 14\n",
       "\\begin{tabular}{llllllllllllll}\n",
       " age & sex & cp & trestbps & chol & fbs & restecg & thalach & exang & oldpeak & slope & ca & thal & num\\\\\n",
       " <dbl> & <chr> & <chr> & <dbl> & <dbl> & <chr> & <chr> & <dbl> & <chr> & <dbl> & <chr> & <chr> & <chr> & <chr>\\\\\n",
       "\\hline\n",
       "\t 67 & 1 & 4 & 160 & 286 & 0 & 2 & 108 & 1 & 1.5 & 2 & 3 & 3 & 2\\\\\n",
       "\t 67 & 1 & 4 & 120 & 229 & 0 & 2 & 129 & 1 & 2.6 & 2 & 2 & 7 & 1\\\\\n",
       "\t 37 & 1 & 3 & 130 & 250 & 0 & 0 & 187 & 0 & 3.5 & 3 & 0 & 3 & 0\\\\\n",
       "\t 41 & 0 & 2 & 130 & 204 & 0 & 2 & 172 & 0 & 1.4 & 1 & 0 & 3 & 0\\\\\n",
       "\t 56 & 1 & 2 & 120 & 236 & 0 & 0 & 178 & 0 & 0.8 & 1 & 0 & 3 & 0\\\\\n",
       "\t 62 & 0 & 4 & 140 & 268 & 0 & 2 & 160 & 0 & 3.6 & 3 & 2 & 3 & 3\\\\\n",
       "\\end{tabular}\n"
      ],
      "text/markdown": [
       "\n",
       "A tibble: 6 × 14\n",
       "\n",
       "| age &lt;dbl&gt; | sex &lt;chr&gt; | cp &lt;chr&gt; | trestbps &lt;dbl&gt; | chol &lt;dbl&gt; | fbs &lt;chr&gt; | restecg &lt;chr&gt; | thalach &lt;dbl&gt; | exang &lt;chr&gt; | oldpeak &lt;dbl&gt; | slope &lt;chr&gt; | ca &lt;chr&gt; | thal &lt;chr&gt; | num &lt;chr&gt; |\n",
       "|---|---|---|---|---|---|---|---|---|---|---|---|---|---|\n",
       "| 67 | 1 | 4 | 160 | 286 | 0 | 2 | 108 | 1 | 1.5 | 2 | 3 | 3 | 2 |\n",
       "| 67 | 1 | 4 | 120 | 229 | 0 | 2 | 129 | 1 | 2.6 | 2 | 2 | 7 | 1 |\n",
       "| 37 | 1 | 3 | 130 | 250 | 0 | 0 | 187 | 0 | 3.5 | 3 | 0 | 3 | 0 |\n",
       "| 41 | 0 | 2 | 130 | 204 | 0 | 2 | 172 | 0 | 1.4 | 1 | 0 | 3 | 0 |\n",
       "| 56 | 1 | 2 | 120 | 236 | 0 | 0 | 178 | 0 | 0.8 | 1 | 0 | 3 | 0 |\n",
       "| 62 | 0 | 4 | 140 | 268 | 0 | 2 | 160 | 0 | 3.6 | 3 | 2 | 3 | 3 |\n",
       "\n"
      ],
      "text/plain": [
       "  age sex cp trestbps chol fbs restecg thalach exang oldpeak slope ca thal num\n",
       "1 67  1   4  160      286  0   2       108     1     1.5     2     3  3    2  \n",
       "2 67  1   4  120      229  0   2       129     1     2.6     2     2  7    1  \n",
       "3 37  1   3  130      250  0   0       187     0     3.5     3     0  3    0  \n",
       "4 41  0   2  130      204  0   2       172     0     1.4     1     0  3    0  \n",
       "5 56  1   2  120      236  0   0       178     0     0.8     1     0  3    0  \n",
       "6 62  0   4  140      268  0   2       160     0     3.6     3     2  3    3  "
      ]
     },
     "metadata": {},
     "output_type": "display_data"
    }
   ],
   "source": [
    "heart <- heart %>% \n",
    "    mutate_at(c(\"ca\", \"thal\"), as.numeric) %>%\n",
    "    mutate_at(c(2, 3, 6, 7, 9, 11:14), as.character)\n",
    "\n",
    "head(heart)"
   ]
  },
  {
   "cell_type": "markdown",
   "id": "d651ec6d-c8ac-4eea-8122-16ade51ad1d5",
   "metadata": {},
   "source": [
    "Based on our research goal, only two variables are needed in our analysis: `chol` (serum cholesterol in mg/dl) and `sex` (1 = male, 0 = female). Let's select these two columns. There are no missing values (indicated by a \"?\" elsewhere) in these variables of interest. Hence, we are now ready to plot the data."
   ]
  },
  {
   "cell_type": "code",
   "execution_count": 58,
   "id": "f195b0f9-c2b2-4f18-a77d-3cf6526ce3f7",
   "metadata": {},
   "outputs": [
    {
     "data": {
      "text/html": [
       "<table class=\"dataframe\">\n",
       "<caption>A tibble: 6 × 2</caption>\n",
       "<thead>\n",
       "\t<tr><th scope=col>sex</th><th scope=col>chol</th></tr>\n",
       "\t<tr><th scope=col>&lt;chr&gt;</th><th scope=col>&lt;dbl&gt;</th></tr>\n",
       "</thead>\n",
       "<tbody>\n",
       "\t<tr><td>1</td><td>286</td></tr>\n",
       "\t<tr><td>1</td><td>229</td></tr>\n",
       "\t<tr><td>1</td><td>250</td></tr>\n",
       "\t<tr><td>0</td><td>204</td></tr>\n",
       "\t<tr><td>1</td><td>236</td></tr>\n",
       "\t<tr><td>0</td><td>268</td></tr>\n",
       "</tbody>\n",
       "</table>\n"
      ],
      "text/latex": [
       "A tibble: 6 × 2\n",
       "\\begin{tabular}{ll}\n",
       " sex & chol\\\\\n",
       " <chr> & <dbl>\\\\\n",
       "\\hline\n",
       "\t 1 & 286\\\\\n",
       "\t 1 & 229\\\\\n",
       "\t 1 & 250\\\\\n",
       "\t 0 & 204\\\\\n",
       "\t 1 & 236\\\\\n",
       "\t 0 & 268\\\\\n",
       "\\end{tabular}\n"
      ],
      "text/markdown": [
       "\n",
       "A tibble: 6 × 2\n",
       "\n",
       "| sex &lt;chr&gt; | chol &lt;dbl&gt; |\n",
       "|---|---|\n",
       "| 1 | 286 |\n",
       "| 1 | 229 |\n",
       "| 1 | 250 |\n",
       "| 0 | 204 |\n",
       "| 1 | 236 |\n",
       "| 0 | 268 |\n",
       "\n"
      ],
      "text/plain": [
       "  sex chol\n",
       "1 1   286 \n",
       "2 1   229 \n",
       "3 1   250 \n",
       "4 0   204 \n",
       "5 1   236 \n",
       "6 0   268 "
      ]
     },
     "metadata": {},
     "output_type": "display_data"
    }
   ],
   "source": [
    "chol_sex <- heart %>%\n",
    "    select(sex, chol)\n",
    "           \n",
    "head(chol_sex)"
   ]
  },
  {
   "cell_type": "markdown",
   "id": "ff6e1529-6046-4f81-a98e-9c368d819fa2",
   "metadata": {},
   "source": [
    "Using a histogram to plot sample distributions for a clear visualization and selecting appropriate parameters:"
   ]
  },
  {
   "cell_type": "code",
   "execution_count": 59,
   "id": "696c2f87-c06b-4cf9-b8ce-eed22d7394ad",
   "metadata": {},
   "outputs": [
    {
     "data": {
      "image/png": "[encoded data removed]",
      "text/plain": [
       "plot without title"
      ]
     },
     "metadata": {
      "image/png": {
       "height": 360,
       "width": 600
      }
     },
     "output_type": "display_data"
    }
   ],
   "source": [
    "# set the plot size\n",
    "options(repr.plot.width = 10, repr.plot.height = 6)\n",
    "\n",
    "# create the histogram\n",
    "chol_hist <- chol_sex %>%\n",
    "    ggplot(aes(x = chol, fill = sex)) +\n",
    "    geom_histogram(bins=40, alpha = 0.6) +\n",
    "    labs(x = \"Serum Cholesterol Level (mg/dl)\", \n",
    "         y = \"Count\", \n",
    "         fill = \"Sex\", \n",
    "         title = \"Cholesterol Level Distribution\", \n",
    "         caption = \"Figure1. The histogram of cholesterol level\") +\n",
    "    theme(text = element_text(size = 20), \n",
    "          plot.caption = element_text(size = 17, hjust = 0), \n",
    "          plot.title = element_text(hjust = 0.5)) +\n",
    "    scale_fill_discrete(labels = c(\"Female\", \"Male\"))\n",
    "\n",
    "chol_hist"
   ]
  },
  {
   "cell_type": "markdown",
   "id": "c6ea8e18-2162-4dd2-9751-fb673d34732e",
   "metadata": {},
   "source": [
    "As shown in Figure1, both male and female observations form similar bell-shaped distributions centered around 250 mg/dl. We choose mean and standard deviation as parameters because these parameters are commonly referenced in clinical research. The sample distribution for women has outliers which may cause over-estimates of mean cholesterol levels; however, we are interested in studying the entire population where extreme cases do exist, so we decide to keep the outliers."
   ]
  },
  {
   "cell_type": "markdown",
   "id": "74a4e542-b675-41ed-8f1b-7ef99abd86b7",
   "metadata": {},
   "source": [
    "Let's take a look at the point estimates for each group."
   ]
  },
  {
   "cell_type": "code",
   "execution_count": 60,
   "id": "729b28c5-e588-42dc-9bad-37271dd8ad9c",
   "metadata": {},
   "outputs": [
    {
     "data": {
      "text/html": [
       "<table class=\"dataframe\">\n",
       "<caption>A data.frame: 2 × 4</caption>\n",
       "<thead>\n",
       "\t<tr><th scope=col>sex_label</th><th scope=col>sex</th><th scope=col>mean</th><th scope=col>sd</th></tr>\n",
       "\t<tr><th scope=col>&lt;chr&gt;</th><th scope=col>&lt;chr&gt;</th><th scope=col>&lt;dbl&gt;</th><th scope=col>&lt;dbl&gt;</th></tr>\n",
       "</thead>\n",
       "<tbody>\n",
       "\t<tr><td>Female</td><td>0</td><td>261.7526</td><td>64.90089</td></tr>\n",
       "\t<tr><td>Male  </td><td>1</td><td>239.6341</td><td>42.75165</td></tr>\n",
       "</tbody>\n",
       "</table>\n"
      ],
      "text/latex": [
       "A data.frame: 2 × 4\n",
       "\\begin{tabular}{llll}\n",
       " sex\\_label & sex & mean & sd\\\\\n",
       " <chr> & <chr> & <dbl> & <dbl>\\\\\n",
       "\\hline\n",
       "\t Female & 0 & 261.7526 & 64.90089\\\\\n",
       "\t Male   & 1 & 239.6341 & 42.75165\\\\\n",
       "\\end{tabular}\n"
      ],
      "text/markdown": [
       "\n",
       "A data.frame: 2 × 4\n",
       "\n",
       "| sex_label &lt;chr&gt; | sex &lt;chr&gt; | mean &lt;dbl&gt; | sd &lt;dbl&gt; |\n",
       "|---|---|---|---|\n",
       "| Female | 0 | 261.7526 | 64.90089 |\n",
       "| Male   | 1 | 239.6341 | 42.75165 |\n",
       "\n"
      ],
      "text/plain": [
       "  sex_label sex mean     sd      \n",
       "1 Female    0   261.7526 64.90089\n",
       "2 Male      1   239.6341 42.75165"
      ]
     },
     "metadata": {},
     "output_type": "display_data"
    }
   ],
   "source": [
    "chol_sex_estimates <- chol_sex %>%\n",
    "    group_by(sex) %>%\n",
    "    summarize(mean = mean(chol),\n",
    "              sd = sd(chol)) %>%\n",
    "    cbind(sex_label = c(\"Female\", \"Male\")) %>% \n",
    "    relocate(sex_label, .before = sex)\n",
    "          \n",
    "chol_sex_estimates"
   ]
  },
  {
   "cell_type": "markdown",
   "id": "937b7d02-141a-4ddb-a1c8-a50f7e7ab55e",
   "metadata": {},
   "source": [
    "The table above indicates the female sample has a higher mean and standard deviation. Since standard deviation is difficult to plot in the histogram, we will only add means into our plot for comparison:"
   ]
  },
  {
   "cell_type": "code",
   "execution_count": 61,
   "id": "7cb84a69-4a4e-43dd-a585-af59c59db9f2",
   "metadata": {},
   "outputs": [
    {
     "data": {
      "image/png": "[encoded data removed]",
      "text/plain": [
       "plot without title"
      ]
     },
     "metadata": {
      "image/png": {
       "height": 360,
       "width": 600
      }
     },
     "output_type": "display_data"
    }
   ],
   "source": [
    "# add mean into chol_hist\n",
    "chol_hist_mean <- chol_hist + \n",
    "    geom_vline(data = chol_sex_estimates, aes(xintercept = mean, color=factor(sex_label)), size = 1) +\n",
    "    scale_color_brewer(palette=\"Set1\") +\n",
    "    labs(caption = \"Figure2. The histogram of cholesterol level with means\", \n",
    "         color = \"Means\", \n",
    "         linetype = \"Means\") \n",
    "               \n",
    "chol_hist_mean"
   ]
  },
  {
   "cell_type": "markdown",
   "id": "7d9d3d51-aa46-4b98-8dd0-61dc037685cf",
   "metadata": {},
   "source": [
    "As shown in Figure2, females have a higher mean cholesterol level. Further hypothesis testing is required for statistical significance."
   ]
  },
  {
   "cell_type": "markdown",
   "id": "fd6646ec-3347-407e-8c6d-cc18000ea807",
   "metadata": {},
   "source": [
    "### Hypothesis test for mean\n",
    "#### Bootstrapping Method"
   ]
  },
  {
   "cell_type": "markdown",
   "id": "72b4ac92-0037-4887-8d6c-a9d850c1a8c2",
   "metadata": {},
   "source": [
    "First, we will use the bootstrapping method for hypothesis testing. \n",
    "\n",
    "$\\mu_1$ is the population mean of women's cholesterol level while $\\mu_2$ is the population mean of men's cholesterol level. Since we want to test for women having higher mean cholesterol than men, we will be using a one-sided hypothesis test as we have strong reason to believe women would have a higher mean cholesterol level.\n",
    "\n",
    "$H0: \\mu_1 - \\mu_2 = 0$\n",
    "\n",
    "$H1: \\mu_1 - \\mu_2 > 0$\n",
    "\n",
    "We already have a large sample (n= 302) of the population provided through the heart dataset which will be used to bootstrap from."
   ]
  },
  {
   "cell_type": "code",
   "execution_count": 62,
   "id": "7e4dac01",
   "metadata": {},
   "outputs": [
    {
     "data": {
      "text/html": [
       "302"
      ],
      "text/latex": [
       "302"
      ],
      "text/markdown": [
       "302"
      ],
      "text/plain": [
       "[1] 302"
      ]
     },
     "metadata": {},
     "output_type": "display_data"
    },
    {
     "data": {
      "text/html": [
       "<table class=\"dataframe\">\n",
       "<caption>A tibble: 6 × 2</caption>\n",
       "<thead>\n",
       "\t<tr><th scope=col>sex</th><th scope=col>chol</th></tr>\n",
       "\t<tr><th scope=col>&lt;chr&gt;</th><th scope=col>&lt;dbl&gt;</th></tr>\n",
       "</thead>\n",
       "<tbody>\n",
       "\t<tr><td>1</td><td>286</td></tr>\n",
       "\t<tr><td>1</td><td>229</td></tr>\n",
       "\t<tr><td>1</td><td>250</td></tr>\n",
       "\t<tr><td>0</td><td>204</td></tr>\n",
       "\t<tr><td>1</td><td>236</td></tr>\n",
       "\t<tr><td>0</td><td>268</td></tr>\n",
       "</tbody>\n",
       "</table>\n"
      ],
      "text/latex": [
       "A tibble: 6 × 2\n",
       "\\begin{tabular}{ll}\n",
       " sex & chol\\\\\n",
       " <chr> & <dbl>\\\\\n",
       "\\hline\n",
       "\t 1 & 286\\\\\n",
       "\t 1 & 229\\\\\n",
       "\t 1 & 250\\\\\n",
       "\t 0 & 204\\\\\n",
       "\t 1 & 236\\\\\n",
       "\t 0 & 268\\\\\n",
       "\\end{tabular}\n"
      ],
      "text/markdown": [
       "\n",
       "A tibble: 6 × 2\n",
       "\n",
       "| sex &lt;chr&gt; | chol &lt;dbl&gt; |\n",
       "|---|---|\n",
       "| 1 | 286 |\n",
       "| 1 | 229 |\n",
       "| 1 | 250 |\n",
       "| 0 | 204 |\n",
       "| 1 | 236 |\n",
       "| 0 | 268 |\n",
       "\n"
      ],
      "text/plain": [
       "  sex chol\n",
       "1 1   286 \n",
       "2 1   229 \n",
       "3 1   250 \n",
       "4 0   204 \n",
       "5 1   236 \n",
       "6 0   268 "
      ]
     },
     "metadata": {},
     "output_type": "display_data"
    }
   ],
   "source": [
    "nrow(chol_sex)\n",
    "\n",
    "head(chol_sex)"
   ]
  },
  {
   "cell_type": "code",
   "execution_count": 63,
   "id": "c62473ed",
   "metadata": {},
   "outputs": [
    {
     "data": {
      "text/html": [
       "<table class=\"dataframe\">\n",
       "<caption>A tibble: 1 × 1</caption>\n",
       "<thead>\n",
       "\t<tr><th scope=col>stat</th></tr>\n",
       "\t<tr><th scope=col>&lt;dbl&gt;</th></tr>\n",
       "</thead>\n",
       "<tbody>\n",
       "\t<tr><td>22.11843</td></tr>\n",
       "</tbody>\n",
       "</table>\n"
      ],
      "text/latex": [
       "A tibble: 1 × 1\n",
       "\\begin{tabular}{l}\n",
       " stat\\\\\n",
       " <dbl>\\\\\n",
       "\\hline\n",
       "\t 22.11843\\\\\n",
       "\\end{tabular}\n"
      ],
      "text/markdown": [
       "\n",
       "A tibble: 1 × 1\n",
       "\n",
       "| stat &lt;dbl&gt; |\n",
       "|---|\n",
       "| 22.11843 |\n",
       "\n"
      ],
      "text/plain": [
       "  stat    \n",
       "1 22.11843"
      ]
     },
     "metadata": {},
     "output_type": "display_data"
    }
   ],
   "source": [
    "# Calculate the observed test statistic\n",
    "d0 <- chol_sex %>%\n",
    "      specify(chol ~ sex) %>%\n",
    "      calculate(stat = \"diff in means\",\n",
    "                order = c(\"0\", \"1\"))\n",
    "d0"
   ]
  },
  {
   "cell_type": "code",
   "execution_count": 77,
   "id": "a5d712e6",
   "metadata": {},
   "outputs": [
    {
     "data": {
      "text/html": [
       "<table class=\"dataframe\">\n",
       "<caption>A tibble: 6 × 2</caption>\n",
       "<thead>\n",
       "\t<tr><th scope=col>replicate</th><th scope=col>stat</th></tr>\n",
       "\t<tr><th scope=col>&lt;int&gt;</th><th scope=col>&lt;dbl&gt;</th></tr>\n",
       "</thead>\n",
       "<tbody>\n",
       "\t<tr><td>1</td><td>-9.88126729</td></tr>\n",
       "\t<tr><td>2</td><td>-1.13336686</td></tr>\n",
       "\t<tr><td>3</td><td> 0.06643198</td></tr>\n",
       "\t<tr><td>4</td><td>-0.08544129</td></tr>\n",
       "\t<tr><td>5</td><td> 3.75695248</td></tr>\n",
       "\t<tr><td>6</td><td>-3.12290671</td></tr>\n",
       "</tbody>\n",
       "</table>\n"
      ],
      "text/latex": [
       "A tibble: 6 × 2\n",
       "\\begin{tabular}{ll}\n",
       " replicate & stat\\\\\n",
       " <int> & <dbl>\\\\\n",
       "\\hline\n",
       "\t 1 & -9.88126729\\\\\n",
       "\t 2 & -1.13336686\\\\\n",
       "\t 3 &  0.06643198\\\\\n",
       "\t 4 & -0.08544129\\\\\n",
       "\t 5 &  3.75695248\\\\\n",
       "\t 6 & -3.12290671\\\\\n",
       "\\end{tabular}\n"
      ],
      "text/markdown": [
       "\n",
       "A tibble: 6 × 2\n",
       "\n",
       "| replicate &lt;int&gt; | stat &lt;dbl&gt; |\n",
       "|---|---|\n",
       "| 1 | -9.88126729 |\n",
       "| 2 | -1.13336686 |\n",
       "| 3 |  0.06643198 |\n",
       "| 4 | -0.08544129 |\n",
       "| 5 |  3.75695248 |\n",
       "| 6 | -3.12290671 |\n",
       "\n"
      ],
      "text/plain": [
       "  replicate stat       \n",
       "1 1         -9.88126729\n",
       "2 2         -1.13336686\n",
       "3 3          0.06643198\n",
       "4 4         -0.08544129\n",
       "5 5          3.75695248\n",
       "6 6         -3.12290671"
      ]
     },
     "metadata": {},
     "output_type": "display_data"
    }
   ],
   "source": [
    "# Set seed for reproducible\n",
    "set.seed(1024)\n",
    "\n",
    "null_dist <- chol_sex %>%\n",
    "             specify(chol ~ sex) %>%\n",
    "             hypothesize(null = \"independence\") %>%\n",
    "             generate(reps = 10000, type = \"permute\") %>%\n",
    "             calculate(stat = \"diff in means\",\n",
    "                order = c(\"0\", \"1\"))\n",
    "\n",
    "head(null_dist)"
   ]
  },
  {
   "cell_type": "code",
   "execution_count": 72,
   "id": "92ba0cfd",
   "metadata": {},
   "outputs": [
    {
     "data": {
      "text/html": [
       "<table class=\"dataframe\">\n",
       "<caption>A tibble: 1 × 1</caption>\n",
       "<thead>\n",
       "\t<tr><th scope=col>p_value</th></tr>\n",
       "\t<tr><th scope=col>&lt;dbl&gt;</th></tr>\n",
       "</thead>\n",
       "<tbody>\n",
       "\t<tr><td>1e-04</td></tr>\n",
       "</tbody>\n",
       "</table>\n"
      ],
      "text/latex": [
       "A tibble: 1 × 1\n",
       "\\begin{tabular}{l}\n",
       " p\\_value\\\\\n",
       " <dbl>\\\\\n",
       "\\hline\n",
       "\t 1e-04\\\\\n",
       "\\end{tabular}\n"
      ],
      "text/markdown": [
       "\n",
       "A tibble: 1 × 1\n",
       "\n",
       "| p_value &lt;dbl&gt; |\n",
       "|---|\n",
       "| 1e-04 |\n",
       "\n"
      ],
      "text/plain": [
       "  p_value\n",
       "1 1e-04  "
      ]
     },
     "metadata": {},
     "output_type": "display_data"
    },
    {
     "data": {
      "image/png": "[encoded data removed]",
      "text/plain": [
       "plot without title"
      ]
     },
     "metadata": {
      "image/png": {
       "height": 360,
       "width": 600
      }
     },
     "output_type": "display_data"
    }
   ],
   "source": [
    "null_dist %>% visualize() + shade_p_value(obs_stat = d0, direction = \"right\")\n",
    "\n",
    "pvalue <- null_dist %>%\n",
    "          get_pvalue(obs_stat = d0, direction = \"right\")\n",
    "\n",
    "pvalue"
   ]
  },
  {
   "cell_type": "markdown",
   "id": "d48fc426-6e21-490d-8ccf-1bf0bf137643",
   "metadata": {},
   "source": [
    "The p-value is smaller than 0.05. Thus, we will reject the null hypothesis with $\\alpha = 0.5$ and we conclude that the population mean of women's cholesterol level is significantly larger than men's."
   ]
  },
  {
   "cell_type": "markdown",
   "id": "e45e980e-e969-467a-93ab-7af8e1b1a1d0",
   "metadata": {},
   "source": [
    "We also use bootstrapping to calculate the confidence interval. "
   ]
  },
  {
   "cell_type": "code",
   "execution_count": null,
   "id": "269c5857",
   "metadata": {
    "tags": []
   },
   "outputs": [],
   "source": [
    "boot_dist <- chol_sex %>%\n",
    "              specify(chol ~ sex) %>%\n",
    "              generate(reps = 10000, type = \"bootstrap\") %>%\n",
    "              calculate(stat = \"diff in means\",\n",
    "                order = c(\"0\", \"1\")) \n",
    "\n",
    "ci <- boot_dist %>%\n",
    "      get_ci\n",
    "\n",
    "ci\n",
    "\n",
    "boot_dist %>% visualize() + shade_ci (endpoints = ci)"
   ]
  },
  {
   "cell_type": "markdown",
   "id": "75a40a09",
   "metadata": {},
   "source": [
    "Since 0 is not captured in this confidence interval, this would match our hypothesis of rejecting the null hypothesis as 0 is not a plausible value of our population parameter at a 95% significance level. We are 95% confident that the true population mean difference will fall between 8.235029 and 36.5919."
   ]
  },
  {
   "cell_type": "markdown",
   "id": "4116bbf9-397a-4655-8a5f-d60b64a89977",
   "metadata": {},
   "source": [
    "#### Asymptotic Method"
   ]
  },
  {
   "cell_type": "markdown",
   "id": "a68ed19b-5a26-4828-a93a-afed094489fe",
   "metadata": {},
   "source": [
    "Next, we will test whether women have a higher mean than men using the asymptotic method. Since two populations are independent, the sample size is sufficiently large, and we don't have access to the population parameters, the two-sample t-test will be appropriate for our approximation of the population mean. This hypothesis testing will be tested on a 5% significance level.\n",
    "\n",
    "$H_0: \\mu_1 - \\mu_2 = 0$ \n",
    "\n",
    "$H_1: \\mu_1 - \\mu_2 > 0$"
   ]
  },
  {
   "cell_type": "code",
   "execution_count": null,
   "id": "b6ed7acb-f27d-4960-8d85-547da153b48a",
   "metadata": {},
   "outputs": [],
   "source": [
    "mean_t_test <-\n",
    "    tidy(\n",
    "        t.test(chol ~ sex, data = chol_sex,\n",
    "               alternative = \"greater\")\n",
    "    )\n",
    "\n",
    "mean_t_test"
   ]
  },
  {
   "cell_type": "markdown",
   "id": "883a84d5-807e-4e90-8cb7-54456086e2b3",
   "metadata": {},
   "source": [
    "As we can see from the table above, our sample has test statistic value of 3.057307 with a p-value of 0.001343469 which is smaller then $\\alpha = $ 0.05. Therefore, we are going to reject the null hypothesis and we conclude that the population mean of women's cholesterol level is significantly larger than men's. We are also 95% confident that the true population mean difference will fall between 10.13739 and infinity. "
   ]
  },
  {
   "cell_type": "markdown",
   "id": "d188776a-5628-44bf-8702-9b1ce63fe356",
   "metadata": {},
   "source": [
    "After we used both bootstrapping and asymptotic methods for hypothesis testing of the population mean, we found that the results are pretty similar in that we both rejected the null hypothesis with p-values approaching 0. However, the t-test provides an infinity of our upper confidence level, which is different from the bootstrapping method. Since the purpose of this project is to test whether women have a higher cholesterol level than men, both methods could provide reliable conclusions in rejecting the null hypothesis. "
   ]
  },
  {
   "cell_type": "markdown",
   "id": "9cbba2a9-d87f-4546-9bae-c81d2849b469",
   "metadata": {},
   "source": [
    "### Hypothesis test for standard deviation\n",
    "From Figure1, we can tell that the sample distributions are almost normal, so we can use the F-test to test whether the population standard deviation of women's cholesterol level is significantly larger than men's. $\\sigma_1$ is the population standard deviation of women's cholesterol level while $\\sigma_2$ is the population standard deviation of men's cholesterol level. And we will investigate: \n",
    "\n",
    "$H_0: \\sigma_1 = \\sigma_2$ \n",
    "\n",
    "$H_1: \\sigma_1 > \\sigma_2$"
   ]
  },
  {
   "cell_type": "code",
   "execution_count": null,
   "id": "827a01b6-5b3d-464e-9e7a-0852c0ec74f5",
   "metadata": {},
   "outputs": [],
   "source": [
    "var_f_test <- \n",
    "    tidy(\n",
    "    var.test(chol ~ sex, data = chol_sex, \n",
    "         alternative = \"greater\")\n",
    "        )\n",
    "\n",
    "var_f_test"
   ]
  },
  {
   "cell_type": "markdown",
   "id": "b88a5ce0-32fb-4d2a-94ad-70909c438b06",
   "metadata": {},
   "source": [
    "As we can see from the table above, our sample has a test statistic value of 2.3046 with a p-value of 3.468934e-07 which is smaller than $\\alpha =$ 0.05. Therefore, we are going to reject the null hypothesis and we conclude that the population standard deviation of women's cholesterol levels is significantly larger than men's. \n",
    "\n",
    "However, when we do hypothesis testing for standard deviation using the F test, the outliers in women's cholesterol level distribution will affect the result. Thus, using the bootstrapping method for standard deviation is more trustworthy. "
   ]
  },
  {
   "cell_type": "markdown",
   "id": "6b8a9626-0ef7-41a7-94cd-da6fdf634984",
   "metadata": {},
   "source": [
    "## Discussion"
   ]
  },
  {
   "cell_type": "markdown",
   "id": "6863fcb1-a4a6-4ff6-9489-c4aac09c6fe4",
   "metadata": {},
   "source": [
    "#### Key Findings and Implications\n",
    "\n",
    "To investigate the difference between average cholesterol levels of male and female, one-tail hypothesis testing using both bootstrapping and asymptotic approaches were adopted, and both methods led to the same conclusion of rejecting the null hypothesis at the 5% significance level. Specifically, hypothesis testing with bootstrapping produced a p-value of 0.0001, whereas the two-sample t-test yielded a p-value of 0.001343469. To restate the hypotheses of our research, the null hypothesis states that there is no difference between the cholesterol levels of male and female, and the alternative hypothesis suggests that females on average have higher cholesterol levels than males. Based on our results, since both p-values are significantly smaller than 𝝰 = 0.05, there is sufficient evidence to reject the null hypothesis and in favor of the alternative. In other words, it is very likely that females have higher serum cholesterol levels than males. \n",
    "\n",
    "In addition to the analysis above, confidence intervals (CIs) were constructed for both hypothesis testing methods, with results further supporting our conclusion. At 95% confidence level, the bootstrapping approach yielded a CI of [8.235029, 36.5919] for the differences in mean cholesterol levels, while the two-sample t-test produced a CI of [10.13739, infinity]. Note that neither confidence intervals contain the key value of 0, which reinforced our conclusion of rejecting the null hypothesis.\n",
    "\n",
    "Lastly, we looked at the difference between the standard deviations of male and female cholesterol levels using the asymptotic approach. Since we aim to study the variance, the F-test was employed to test for $H_0: \\sigma_1 = \\sigma_2$ vs $H_1: \\sigma_1 > \\sigma_2$. The output gives a p-value = 3.468934e-07, which prompts us to reject the null hypothesis at the 5% significance level and suggests that females often demonstrate greater variance in serum cholesterol level compared to males.\n",
    "\n",
    "Evaluating the differences between means and standard deviations of serum cholesterol levels of both genders reveals two gender-related trends: **1) on average, females have higher cholesterol levels and 2) have greater variance compared to males.** These observations help to indicate cholesterol level disparities among male and female patients, and will provide insights to relevant medical analysis such as developing gender-specific metrics for male and female patients.\n",
    "\n",
    "#### Comparing Results with Expectations\n",
    "As discussed in the introduction, we hypothesized that female patients would have a higher mean cholesterol than male patients. The results of our statistical analysis match our expectation, where female participants demonstrate a statistically higher average cholesterol level compared to male patients in our hypothesis tests. \n",
    "\n",
    "#### Future Research Directions\n",
    "As suggested by Gao et al. (2019) in their article, males often demonstrate stronger responses to changes in **low-density** lipoprotein cholesterol (LDL), whereas **high-density** lipoprotein cholesterol (HDL) levels have greater influence among females. Future studies can aim to address the research gap of the positive correlation between LDL and the risk of developing heart disease by investigating whether levels of various types of cholesterol are effective indicators for cardiovascular disease. \n",
    "\n"
   ]
  },
  {
   "cell_type": "markdown",
   "id": "21f46440-a3fb-4e57-90a5-89064001dd65",
   "metadata": {},
   "source": [
    "## References\n",
    "Gao Z., Chen Z., Sun A., & Deng X. (2019). Gender differences in cardiovascular disease. *Medicine in Novel Technology and Devices, 4*. https://doi.org/10.1016/j.medntd.2019.100025\n",
    "\n",
    "Prasad Tharu, B., & Tsokos, C. P. (2017). A Statistical Study of Serum Cholesterol Level by Gender and Race. *Journal of Research in Health Sciences, 17*(3), 386. https://www.ncbi.nlm.nih.gov/pmc/articles/PMC7189954/\n",
    "\n",
    "Rossouw J. (2002). Hormones, genetic factors, and gender differences in cardiovascular disease. *Cardiovascular Research, 53*(3), 550-557. https://doi.org/10.1016/S0008-6363(01)00478-3"
   ]
  }
 ],
 "metadata": {
  "kernelspec": {
   "display_name": "R",
   "language": "R",
   "name": "ir"
  },
  "language_info": {
   "codemirror_mode": "r",
   "file_extension": ".r",
   "mimetype": "text/x-r-source",
   "name": "R",
   "pygments_lexer": "r",
   "version": "4.0.5"
  }
 },
 "nbformat": 4,
 "nbformat_minor": 5
}
