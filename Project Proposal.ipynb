{
 "cells": [
  {
   "cell_type": "markdown",
   "id": "73ee354d-166c-496b-a191-f1291139a495",
   "metadata": {},
   "source": [
    "# Group 10 Project Proposal\n",
    "#### Authors: Authors: Waris Bhatia, Lucy Liu, Yolanda Wu, Caroline Zhang"
   ]
  },
  {
   "cell_type": "markdown",
   "id": "517a277b-ab68-4078-b65a-d6edf1e938a2",
   "metadata": {},
   "source": []
  },
  {
   "cell_type": "code",
   "execution_count": null,
   "id": "3d161bd8-d9c5-412f-96cd-a27c7e9b3389",
   "metadata": {},
   "outputs": [],
   "source": []
  }
 ],
 "metadata": {
  "kernelspec": {
   "display_name": "R",
   "language": "R",
   "name": "ir"
  },
  "language_info": {
   "codemirror_mode": "r",
   "file_extension": ".r",
   "mimetype": "text/x-r-source",
   "name": "R",
   "pygments_lexer": "r",
   "version": "4.0.5"
  }
 },
 "nbformat": 4,
 "nbformat_minor": 5
}
